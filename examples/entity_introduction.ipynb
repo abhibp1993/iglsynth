{
 "cells": [
  {
   "cell_type": "markdown",
   "metadata": {},
   "source": [
    "# Entity Class: Introduction\n",
    "\n",
    "`Entity` is the base class of all other classes defined in IGLSynth. \n",
    "`Entity` class definition does the following:\n",
    "\n",
    "\n",
    "* assigns a `name` to all entity objects; \n",
    "* ensures no duplicate objects are created with same `name`;\n",
    "* defines the `hash` function;\n",
    "* defines when two `Entity` objects are equal;\n",
    "* defines default serialization of `Entity` objects;\n",
    "* assigns a `logging.Logger` object to entity for recording internal events.\n",
    "\n",
    "The remainder of tutorial elaborates on these concepts."
   ]
  },
  {
   "cell_type": "code",
   "execution_count": 1,
   "metadata": {},
   "outputs": [],
   "source": [
    "import sys\n",
    "sys.path.insert(0, '/home/abhibp1993/Research/iglsynth')"
   ]
  },
  {
   "cell_type": "code",
   "execution_count": 2,
   "metadata": {},
   "outputs": [],
   "source": [
    "import iglsynth.util as util"
   ]
  },
  {
   "cell_type": "markdown",
   "metadata": {},
   "source": [
    "## Instantiate Entity\n",
    "\n",
    "It is **not** recommended to directly instantiate `Entity` objects for application, although it is possible. \n",
    "The following code is only to showcase the generic methods of instantiation available to all IGLSynth objects. \n",
    "\n",
    "Let us start with the easiest way of instanting an `Entity`. "
   ]
  },
  {
   "cell_type": "code",
   "execution_count": 3,
   "metadata": {},
   "outputs": [
    {
     "data": {
      "text/plain": [
       "Entity(name=b38ac5f8-84e0-4167-96a8-3992f3f83e0e)"
      ]
     },
     "execution_count": 3,
     "metadata": {},
     "output_type": "execute_result"
    }
   ],
   "source": [
    "# Create an entity with no instantiation parameters\n",
    "e = util.Entity()\n",
    "e"
   ]
  },
  {
   "cell_type": "markdown",
   "metadata": {},
   "source": [
    "Observe that the `e1` has been assigned a name automatically. This name is generated using `uuid.uuid4()` function. See [Wikipedia](https://en.wikipedia.org/wiki/Universally_unique_identifier) for more information on uuid.\n",
    "\n",
    "Next, we instantiate `Entity` by providing a custom name. This name can be any `<hashable>` python object.\n",
    "For simplicity, we recommend this to be one of `string, int, float, tuple` or `list`."
   ]
  },
  {
   "cell_type": "code",
   "execution_count": 4,
   "metadata": {},
   "outputs": [
    {
     "data": {
      "text/plain": [
       "Entity(name=MyEntity)"
      ]
     },
     "execution_count": 4,
     "metadata": {},
     "output_type": "execute_result"
    }
   ],
   "source": [
    "# Entity with custom name\n",
    "e = util.Entity(name=\"MyEntity\")\n",
    "e"
   ]
  },
  {
   "cell_type": "code",
   "execution_count": 5,
   "metadata": {},
   "outputs": [
    {
     "data": {
      "text/plain": [
       "Entity(name=(10, 20))"
      ]
     },
     "execution_count": 5,
     "metadata": {},
     "output_type": "execute_result"
    }
   ],
   "source": [
    "# Another entity with custom name\n",
    "e = util.Entity(name=(10, 20))\n",
    "e"
   ]
  },
  {
   "cell_type": "code",
   "execution_count": 6,
   "metadata": {},
   "outputs": [],
   "source": [
    "# Unhashable names are not allowed\n",
    "try:\n",
    "    e = util.Entity(name={10, 20})\n",
    "except AssertionError as err:\n",
    "    print(err)"
   ]
  },
  {
   "cell_type": "markdown",
   "metadata": {},
   "source": [
    "Finally, it is possible to pass keyword arguments to `Entity` constructor to initialize the object with attributes.\n",
    "This will come handy while reconstructing the object during deserialization. "
   ]
  },
  {
   "cell_type": "code",
   "execution_count": 7,
   "metadata": {},
   "outputs": [
    {
     "name": "stdout",
     "output_type": "stream",
     "text": [
      "Entity(name=keywords!)\n"
     ]
    },
    {
     "data": {
      "text/plain": [
       "30"
      ]
     },
     "execution_count": 7,
     "metadata": {},
     "output_type": "execute_result"
    }
   ],
   "source": [
    "# Explicitly provide keyword arguments\n",
    "e = util.Entity(name=\"keywords!\", addition=30)\n",
    "print(e)\n",
    "e.addition"
   ]
  },
  {
   "cell_type": "code",
   "execution_count": 8,
   "metadata": {},
   "outputs": [
    {
     "name": "stdout",
     "output_type": "stream",
     "text": [
      "Entity(name=unpacking)\n"
     ]
    },
    {
     "data": {
      "text/plain": [
       "(10, 20)"
      ]
     },
     "execution_count": 8,
     "metadata": {},
     "output_type": "execute_result"
    }
   ],
   "source": [
    "# Provide keyword arguments by unpacking the dictionary\n",
    "e = util.Entity(**{\"name\": \"unpacking\", \"coordinate\": (10, 20)})\n",
    "print(e)\n",
    "e.coordinate"
   ]
  },
  {
   "cell_type": "markdown",
   "metadata": {},
   "source": [
    "## Duplication Avoidance\n",
    "\n",
    "`Entity` construction ensures that no two entities of same (sub-)class have same names. Whenever an attempt is made to instantiate a duplicate object, the existing object is returned instead of creating a new one. \n",
    "\n",
    "It is important to understand how `Entity` class ensures uniqueness. During construction, `Entity` constructs a unique name of object as `<module_name>:<class_name>:<name>`. If there exists an object with this name previously instantiated then it is returned. Thus, it is possible to have two objects of, say, `Entity` subclasses `Vertex` and `Edge` with the same name, say `helloEntity`. But, it is not possible to have two `Vertex` objects with name `helloEntity`. \n",
    "\n",
    "Let us see an example."
   ]
  },
  {
   "cell_type": "code",
   "execution_count": 9,
   "metadata": {},
   "outputs": [
    {
     "name": "stdout",
     "output_type": "stream",
     "text": [
      "Vertex(name=helloEntity) 139757657740400\n",
      "Vertex(name=helloEntity) 139757657740400\n",
      "Edge(name=helloEntity) 139757657740120\n"
     ]
    }
   ],
   "source": [
    "class Vertex(util.Entity):\n",
    "    pass\n",
    "\n",
    "class Edge(util.Entity):\n",
    "    pass\n",
    "\n",
    "\n",
    "v1 = Vertex(name=\"helloEntity\")\n",
    "v2 = Vertex(name=\"helloEntity\")\n",
    "e1 = Edge(name=\"helloEntity\")\n",
    "\n",
    "print(v1, id(v1))\n",
    "print(v2, id(v2))\n",
    "print(e1, id(e1))"
   ]
  },
  {
   "cell_type": "markdown",
   "metadata": {},
   "source": [
    "Note that the two vertices `v1, v2` have the same `id`'s which imply that they are same objects in the memory. Recall that `id` function returns the memory address of the python object. \n",
    "\n",
    "On the contrary, `e1` has a different id than `v1` and `v2` implying that it is a different object, but with the same name. "
   ]
  },
  {
   "cell_type": "markdown",
   "metadata": {},
   "source": [
    "## Hashing and Equality\n",
    "\n",
    "All `Entity` objects are hashable. \n",
    "The default hash value of an `Entity` is given by `hash(name)`. \n",
    "\n",
    "Also, two `Entity` objects are said to be equal if they have the same `name`. \n",
    "\n",
    "<div class=\"alert alert-block alert-warning\">\n",
    "<b>Example:</b> Use yellow boxes for examples that are not inside code cells, or use for mathematical formulas if needed. Typically also used to display warning messages.\n",
    "</div>"
   ]
  },
  {
   "cell_type": "code",
   "execution_count": 10,
   "metadata": {},
   "outputs": [
    {
     "name": "stdout",
     "output_type": "stream",
     "text": [
      "Is hash(e1) equal to hash(e1.name): True\n",
      "Is hash(e2) equal to hash(e2.name): True\n",
      "Is hash(e3) equal to hash(e3.name): True\n",
      "\n",
      "Is e1 equal to e2: False\n",
      "Is e2 equal to e3: True\n",
      "Is e3 equal to e1: False\n"
     ]
    }
   ],
   "source": [
    "e1 = util.Entity(name=\"1\")\n",
    "e2 = util.Entity(name=\"2\")\n",
    "e3 = util.Entity(name=\"2\")\n",
    "\n",
    "print(f\"Is hash(e1) equal to hash(e1.name): {hash(e1) == hash(e1.name)}\")\n",
    "print(f\"Is hash(e2) equal to hash(e2.name): {hash(e2) == hash(e2.name)}\")\n",
    "print(f\"Is hash(e3) equal to hash(e3.name): {hash(e3) == hash(e3.name)}\")\n",
    "print()\n",
    "print(f\"Is e1 equal to e2: {e1 == e2}\")\n",
    "print(f\"Is e2 equal to e3: {e2 == e3}\")\n",
    "print(f\"Is e3 equal to e1: {e3 == e1}\")"
   ]
  },
  {
   "cell_type": "markdown",
   "metadata": {},
   "source": [
    "## Serialization of Entity\n",
    "\n",
    "A `serialize` function is defined for `Entity` objects which returns a dictionary of attributes to their values in the object. This dictionary can later be used by functions in `readwrite` package to write to a file. \n",
    "\n",
    "The `serialize` function takes in a parameter `ignores` that is a list of attributes which should not be serialized. An example of an ignore is `logger`; which generally should not be saved or communicated. "
   ]
  },
  {
   "cell_type": "code",
   "execution_count": 11,
   "metadata": {},
   "outputs": [
    {
     "name": "stdout",
     "output_type": "stream",
     "text": [
      "Without ignore:  {'_name': 'Entity', '_class_name': 'Entity', '_module_name': 'iglsynth.util.entity', 'coordinate': (10, 20), 'other': 'ignore me'}\n",
      "With ignore:  {'_name': 'Entity', '_class_name': 'Entity', '_module_name': 'iglsynth.util.entity', 'coordinate': (10, 20)}\n"
     ]
    }
   ],
   "source": [
    "e1 = util.Entity(name=\"Entity\", coordinate=(10, 20), other=\"ignore me\")\n",
    "print(\"Without ignore: \", e1.serialize())\n",
    "print(\"With ignore: \", e1.serialize(ignores=[\"other\"]))"
   ]
  },
  {
   "cell_type": "markdown",
   "metadata": {},
   "source": [
    "## Deriving from Entity: Tips\n",
    "\n",
    "As `Entity` is expected the superclass of all objects in IGLSynth, developers will want to derive classes from Entity or its derivative. Here are some thumb rules to follow. \n",
    "\n",
    "* The constructor of subclass must accept `name` and optional keyword arguments (`**kwargs`). For example, the constructor definition may look like\n",
    "```python\n",
    "def __init__(self, name=None, ..., **kwargs):\n",
    "    ...\n",
    "```\n",
    "\n",
    "* **Never** set the `_name` parameter in the subclass. This will corrupt the Entity registry and may result in unexpected behavior of code. \n",
    "\n",
    "    Instead, if a new name must be generated for an object using the constructor parameters, then do so before calling the superclass constructor. \n",
    "```python\n",
    "def __init__(self, name, coordinate, **kwargs):\n",
    "    obj_name = (name, coordinate)\n",
    "    super().__init__(name=obj_name, **kwargs)\n",
    "```\n"
   ]
  }
 ],
 "metadata": {
  "kernelspec": {
   "display_name": "PyCharm (IGLSynthTest)",
   "language": "python",
   "name": "pycharm-1ca3a078"
  },
  "language_info": {
   "codemirror_mode": {
    "name": "ipython",
    "version": 3
   },
   "file_extension": ".py",
   "mimetype": "text/x-python",
   "name": "python",
   "nbconvert_exporter": "python",
   "pygments_lexer": "ipython3",
   "version": "3.7.3"
  }
 },
 "nbformat": 4,
 "nbformat_minor": 2
}
