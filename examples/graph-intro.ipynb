{
 "cells": [
  {
   "cell_type": "markdown",
   "metadata": {
    "collapsed": true
   },
   "source": [
    "# Graphs in IGLSynth: Introduction\n",
    "\n",
    "`Graph` is one of the primitive objects in IGLSynth defined in `util` subpackage. Several classes such as `TSys` or `Game` or `DFA` inherit from `Graph` class.  \n",
    "\n",
    "In general, it is discouraged to instantiate `Graph` objects in an application. Instead, you should use one of the models defined in `model` subpackage to define a model for synthesis and use solvers from `solver` subpackage to solve it. "
   ]
  },
  {
   "cell_type": "code",
   "execution_count": 1,
   "metadata": {},
   "outputs": [],
   "source": [
    "import iglsynth.util as util"
   ]
  },
  {
   "cell_type": "markdown",
   "metadata": {},
   "source": [
    "## Instantiating a Graph\n",
    "\n",
    "There are two ways to instantiate a graph; namely with or without assigning it a `name`."
   ]
  },
  {
   "cell_type": "code",
   "execution_count": 2,
   "metadata": {},
   "outputs": [],
   "source": [
    "g1 = util.Graph()\n",
    "g2 = util.Graph(name=\"MyGraph\")        # name can be any <hashable> python object."
   ]
  },
  {
   "cell_type": "markdown",
   "metadata": {},
   "source": [
    "`name` can be any hashable python object. However, we recommend it to be either a primitive python datatype: `bool, int, float, string, tuple, list, dictionary` or an IGLSynth object. This ensures that `Graph` object can be serialized and saved with no extra work (ref:saveload.ipynb).\n",
    "\n",
    "`Graph` has several simple properties and functions as demonstrated below. "
   ]
  },
  {
   "cell_type": "code",
   "execution_count": 3,
   "metadata": {
    "scrolled": false
   },
   "outputs": [
    {
     "name": "stdout",
     "output_type": "stream",
     "text": [
      "g1 = <Graph object with id=Graph::cb6ccbef-697e-401c-8b17-d839c9c025ce>\n",
      "g2 = <Graph object with name=MyGraph>\n"
     ]
    }
   ],
   "source": [
    "# Printing graphs\n",
    "print(f\"g1 = {g1}\")\n",
    "print(f\"g2 = {g2}\")"
   ]
  },
  {
   "cell_type": "markdown",
   "metadata": {},
   "source": [
    "Observe that `g1` constructor has assigned an id to the object. This ID is guaranteed to be *unique* and is generated using `uuid.uuid4()` function. When user does not provide a `name`, then `id` is used as its name.\n",
    "\n",
    "Both `id` and `name` are `Graph` readonly properties. \n",
    "\n",
    "(Default: `name=None`)"
   ]
  },
  {
   "cell_type": "code",
   "execution_count": 4,
   "metadata": {},
   "outputs": [
    {
     "name": "stdout",
     "output_type": "stream",
     "text": [
      "g1.id=Graph::cb6ccbef-697e-401c-8b17-d839c9c025ce, g1.name=None\n",
      "g2.id=Graph::cb6ccbef-697e-401c-8b17-d839c9c025ce, g2.name=MyGraph\n"
     ]
    }
   ],
   "source": [
    "print(f\"g1.id={g1.id}, g1.name={g1.name}\")\n",
    "print(f\"g2.id={g1.id}, g2.name={g2.name}\")"
   ]
  },
  {
   "cell_type": "markdown",
   "metadata": {},
   "source": [
    "All `Graph` objects are assigned a unique `id`, irrespective of whether user gives it a `name` or not. These play an important role in hashing and equality testing of two graphs. See `adv-graph.ipynb` tutorial for the details about how `id` and `name` are used for this purpose. "
   ]
  },
  {
   "cell_type": "markdown",
   "metadata": {},
   "source": [
    "## Adding Vertices and Edges\n",
    "\n",
    "`Vertex` and `Edge` objects can be instantiated similar to `Graph` by either providing a name or not. Here, we will assign `name` for convenience."
   ]
  },
  {
   "cell_type": "code",
   "execution_count": 5,
   "metadata": {},
   "outputs": [
    {
     "name": "stdout",
     "output_type": "stream",
     "text": [
      "v1 = <Vertex object with name=v1>\n",
      "v2 = <Vertex object with name=v2>\n",
      "e = <Edge object with name=(<Vertex object with name=v1>, <Vertex object with name=v2>)>\n"
     ]
    }
   ],
   "source": [
    "v1 = g1.Vertex(name=\"v1\")\n",
    "v2 = g1.Vertex(name=\"v2\")\n",
    "\n",
    "e = g1.Edge(u=v1, v=v2, name=(v1, v2))\n",
    "\n",
    "print(f\"v1 = {v1}\")\n",
    "print(f\"v2 = {v2}\")\n",
    "print(f\"e = {e}\")"
   ]
  },
  {
   "cell_type": "markdown",
   "metadata": {},
   "source": [
    "<div class=\"alert alert-block alert-warning\">\n",
    "<b>Caution:</b> Instantiating vertices/edges as above does NOT add vertices/edges to the graph. \n",
    "</div> \n",
    "\n",
    "The vertices and edges can be added to graph as follows:"
   ]
  },
  {
   "cell_type": "code",
   "execution_count": 6,
   "metadata": {},
   "outputs": [
    {
     "name": "stdout",
     "output_type": "stream",
     "text": [
      "[<Vertex object with name=v1>, <Vertex object with name=v2>]\n",
      "[<Edge object with name=(<Vertex object with name=v1>, <Vertex object with name=v2>)>]\n"
     ]
    }
   ],
   "source": [
    "g1.add_vertices(vbunch=[v1, v2])\n",
    "g1.add_edge(e=e)\n",
    "\n",
    "print(list(g1.vertices))    # Graph.vertices returns an iterator\n",
    "print(list(g1.edges))       # Graph.edges returns an iterator"
   ]
  },
  {
   "cell_type": "markdown",
   "metadata": {},
   "source": [
    "## Finding Neighbors"
   ]
  },
  {
   "cell_type": "code",
   "execution_count": 7,
   "metadata": {},
   "outputs": [
    {
     "name": "stdout",
     "output_type": "stream",
     "text": [
      "succ = [<Vertex object with name=v2>]\n",
      "pred = [<Vertex object with name=v1>]\n",
      "out_edges = [<Edge object with name=(<Vertex object with name=v1>, <Vertex object with name=v2>)>]\n",
      "in_edges = [<Edge object with name=(<Vertex object with name=v1>, <Vertex object with name=v2>)>]\n"
     ]
    }
   ],
   "source": [
    "succ = g1.out_neighbors(v1)\n",
    "pred = g1.in_neighbors(v2)\n",
    "out_edges = g1.out_edges(v1)\n",
    "in_edges = g1.in_edges(v2)\n",
    "\n",
    "print(f\"succ = {list(succ)}\")\n",
    "print(f\"pred = {list(pred)}\")\n",
    "print(f\"out_edges = {list(out_edges)}\")\n",
    "print(f\"in_edges = {list(in_edges)}\")"
   ]
  }
 ],
 "metadata": {
  "kernelspec": {
   "display_name": "Python 3",
   "language": "python",
   "name": "python3"
  },
  "language_info": {
   "codemirror_mode": {
    "name": "ipython",
    "version": 3
   },
   "file_extension": ".py",
   "mimetype": "text/x-python",
   "name": "python",
   "nbconvert_exporter": "python",
   "pygments_lexer": "ipython3",
   "version": "3.7.3"
  }
 },
 "nbformat": 4,
 "nbformat_minor": 1
}
