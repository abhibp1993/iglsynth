{
 "cells": [
  {
   "cell_type": "markdown",
   "metadata": {},
   "source": [
    "# Transition System: TicTacToe\n",
    "\n",
    "This tutorial describes how to define two-player turn-based transition systems using IGLSynth. We will use the example of TicTacToe. \n",
    "\n",
    "\n",
    "## TicTacToe Model\n",
    "\n",
    "A transition system models the interaction of two-players as a directed (multi-)graph with action-labeled edges.\n",
    "\n",
    "We will start by defining a mathematical model for transition system of TicTacToe. \n",
    "In general, we need two ingredients to define such a model, namely\n",
    "\n",
    "* States\n",
    "* Actions\n",
    "\n",
    "A state of the TicTacToe transition system must represent two parameters: (a) the configuration of the board, and (b) whose turn it is to play. \n",
    "\n",
    "\n",
    "**Representing States**\n",
    "\n",
    "The configuration of board can easily be captured in a 9-tuple such that the $i$-th index of tuple corresponds to a cell as shown below\n",
    "\n",
    "                        0 | 1 | 2\n",
    "\n",
    "                        3 | 4 | 5\n",
    "\n",
    "                        6 | 7 | 8\n",
    "\n",
    "\n",
    "Given the number of `X` and `O` marks on the board, it is easy to determine whose turn it is to play next. `X` plays when $|\\mathsf{X}| = |\\mathsf{O}|$ and `O` plays when $|\\mathsf{X}| > |\\mathsf{O}|$. \n",
    "\n",
    "Based on above two arguments, we can simply represent the state of TicTacToe transition system as a 9-tuple with `None` (to represent unmarked cell), `X` or `O`. \n",
    "\n",
    "\n",
    "**Representing Actions**\n",
    "\n",
    "The actions in TicTacToe can be represented as $mark_i$ for $i = 0, \\ldots, 8$. \n",
    "When an action $mark_i$ is performed in a state $s$, the $i$-th cell is marked `X` if it is P1's turn to play at $s$, and `O` otherwise. \n",
    "\n",
    "\n",
    "With this model in mind, we start to write an IGLSynth code to represent the `TSys`. \n",
    "\n",
    "\n",
    "\n",
    "## Instantiating TSys\n",
    "\n",
    "In IGLSynth, a transition system is modeled using `model` package, which contains the `TSys` class. By default, `TSys` represents a deterministic two-player transition system, which can be defined to be turn-based by setting the initialization parameter `kind` to `TURN_BASED` (default is `CONCURRENT`).\n",
    "\n",
    "\n",
    "Let us start by importing the `model` package."
   ]
  },
  {
   "cell_type": "code",
   "execution_count": 1,
   "metadata": {},
   "outputs": [],
   "source": [
    "import sys\n",
    "sys.path.insert(0, '/home/abhibp1993/Research/iglsynth')"
   ]
  },
  {
   "cell_type": "code",
   "execution_count": 2,
   "metadata": {},
   "outputs": [],
   "source": [
    "import iglsynth.model as model"
   ]
  },
  {
   "cell_type": "markdown",
   "metadata": {},
   "source": [
    "A turn-based transition system can be instantiated by providing a `kind` and a `name`. \n",
    "\n",
    "If the `name` parameter is not provided, a name is automatically assigned (as `TSys` is an `Entity`). However, the automatically assigned names are tedious remember, hence we recommend setting the name to something meaningful, say `tictactoe`. \n",
    "\n",
    "<div class=\"alert alert-block alert-warning\">\n",
    "<b>Remark:</b> By default, all transition systems in IGLSynth are assumed to be two-player. \n",
    "</div>\n"
   ]
  },
  {
   "cell_type": "code",
   "execution_count": 3,
   "metadata": {},
   "outputs": [
    {
     "data": {
      "text/plain": [
       "TSys(name=tictactoe, |V|=0, |E|=0)"
      ]
     },
     "execution_count": 3,
     "metadata": {},
     "output_type": "execute_result"
    }
   ],
   "source": [
    "tsys = model.TSys(kind=model.TURN_BASED, name=\"tictactoe\")\n",
    "tsys"
   ]
  },
  {
   "cell_type": "markdown",
   "metadata": {},
   "source": [
    "In general, `TSys` constructor can take several arguments to initialize the object. We refer the readers to documentation for their details. \n",
    "\n",
    "\n",
    "## Adding States to TSys\n",
    "\n",
    "The states that are added to `tsys` must be of `tsys.Vertex` type. By default, `tsys.Vertex` class is an `Entity` that derives from `util.Vertex` class which takes in `state` and `turn` as constructor arguments. Internally, the `name` of vertex is determined as the tuple `(state, turn)`. \n",
    "\n",
    "Thus, we first define a method to determine the turn of player given a state and then generate the set of vertices.\n",
    "\n",
    "\n",
    "**Note:** Here, we take a very naive combinatorial approach to generating states for illustrative purposes. Many of these states will not be reachable. "
   ]
  },
  {
   "cell_type": "code",
   "execution_count": 4,
   "metadata": {},
   "outputs": [],
   "source": [
    "def turn(tup):\n",
    "    if tup.count(\"X\") == tup.count(\"O\"):\n",
    "        return model.TURN_P1\n",
    "    else:\n",
    "        return model.TURN_P2"
   ]
  },
  {
   "cell_type": "code",
   "execution_count": 5,
   "metadata": {},
   "outputs": [
    {
     "name": "stderr",
     "output_type": "stream",
     "text": [
      "100%|██████████| 19683/19683 [00:00<00:00, 44515.31it/s]\n"
     ]
    },
    {
     "name": "stdout",
     "output_type": "stream",
     "text": [
      "TSys(name=tictactoe, |V|=19683, |E|=0)\n"
     ]
    }
   ],
   "source": [
    "import itertools\n",
    "from tqdm import tqdm\n",
    "\n",
    "# Generate set of vertices\n",
    "tokens = (\"X\", \"O\", None)\n",
    "vertices = []\n",
    "for tup in tqdm(tuple(itertools.product(tokens, repeat=9))):\n",
    "    v = tsys.Vertex(state=tup, turn=turn(tup))\n",
    "    vertices.append(v)\n",
    "\n",
    "# Add the states to tsys\n",
    "tsys.add_vertices(vertices)\n",
    "\n",
    "# Print tsys\n",
    "print(tsys)"
   ]
  },
  {
   "cell_type": "markdown",
   "metadata": {},
   "source": [
    "# Adding Edges to TSys\n",
    "\n",
    "There are two prevalent approaches to construct edges of TSys. \n",
    "* Combinatorial\n",
    "* Iterative\n",
    "\n",
    "**In combinatorial approach**, we define a function `is_valid(u, v, a) --> bool` that checks whether the given edge between two vertices $u \\in V$ and $v \\in V$ is valid or not. A typical way to implement this would be as follows:\n",
    "\n",
    "```python\n",
    "V = tuple(tsys.vertices)\n",
    "for u, v in itertools.product(V, V):\n",
    "    for a in tsys.act:\n",
    "        if is_valid(tsys.Edge(u, v, a)):\n",
    "            tsys.add_edge(tsys.Edge(u, v, a))\n",
    "```\n",
    "\n",
    "**In iterative approach**, we construct edges iteratively applying actions (`tsys.act`) to a set of initial states to generate a set of new states. If any of the new states are not in `tsys`, we discard them. Otherwise, we apply actions to these states. We repeat this process until we do not generate any new states. A typical way to implement this would be as follows:\n",
    "\n",
    "```python\n",
    "stack = [v0, ..., vn]\n",
    "explored = set()\n",
    "while len(stack) > 0:\n",
    "    u = stack.pop()\n",
    "    explored.add(u)\n",
    "    \n",
    "    for a in tsys.act:\n",
    "        v = a(u)\n",
    "        \n",
    "        if v in tsys and v not in explored:\n",
    "            e = tsys.Edge(u, v, a)\n",
    "            tsys.add_edge(e)\n",
    "            stack.append(u)\n",
    "```\n",
    "\n",
    "As a thumb rule, the iterative approach works better when the size of action set is much smaller than the size of state space. The combinatorial approach is suitable when either the size action set is comparable to that of state space or we are using parallelization. \n",
    "\n",
    "Thus, in our `tictactoe` example, we will use the iterative approach. "
   ]
  },
  {
   "cell_type": "code",
   "execution_count": 6,
   "metadata": {},
   "outputs": [
    {
     "data": {
      "text/plain": [
       "TSys(name=tictactoe, |V|=19683, |E|=0)"
      ]
     },
     "execution_count": 6,
     "metadata": {},
     "output_type": "execute_result"
    }
   ],
   "source": [
    "v0 = tsys.Vertex(state=(None, )*9, turn=model.TURN_P1)\n",
    "\n",
    "stack = [v0]\n",
    "explored = set()\n",
    "\n",
    "while len(stack) > 0:\n",
    "    u = stack.pop()\n",
    "    explored.add(u)\n",
    "    \n",
    "    for a in tsys.act:\n",
    "        v = a(u)\n",
    "        explored.add(u)\n",
    "        \n",
    "        if v in tsys and v not in explored:\n",
    "            e = tsys.Edge(u, v, a)\n",
    "            tsys.add_edge(e)\n",
    "            stack.append(u)\n",
    "\n",
    "# Print transition system\n",
    "tsys"
   ]
  },
  {
   "cell_type": "markdown",
   "metadata": {},
   "source": [
    "Observe that **no** edges were added to the `tsys`. This is because we haven't added any actions to transition system. So let us do that. \n",
    "\n",
    "\n",
    "### Defining Actions\n",
    "\n",
    "There are two types of action objects in IGLSynth, namely `Action` and `ConcurrentAction`. As suggested by the name `ConcurrentAction` represents an action where both simultaneously effect the state. On the other hand, `Action` class represents the turn-based actions. As `tictactoe` is turn-based, we will define a set of `Action` objects. \n",
    "\n",
    "\n",
    "An `Action` comprises of a precondition and a postcondition. Both the precondition and postcondition are functions with the following signatures:\n",
    "* Precondition: `precondition(v, *args, **kwargs) -> bool`\n",
    "* Postcondition: `postcondition(v, *args, **kwargs) -> 'util.Vertex'`\n",
    "\n",
    "The purpose of the `precondition` function is to check whether the action is applicable at the given vertex or not. The `postcondition` function is expected to return the result of performing the action at the given vertex. \n",
    "\n",
    "Let us look at an example. "
   ]
  },
  {
   "cell_type": "code",
   "execution_count": 7,
   "metadata": {},
   "outputs": [
    {
     "data": {
      "text/plain": [
       "TSysVertex(name=(('X', None, None, None, None, None, None, None, None), 'TURN_P2'))"
      ]
     },
     "execution_count": 7,
     "metadata": {},
     "output_type": "execute_result"
    }
   ],
   "source": [
    "@model.Action\n",
    "def mark0(v):\n",
    "    tup = v.name[0]     # Recall v.name has structure (state, turn)\n",
    "    \n",
    "    if v.turn == model.TURN_P1:\n",
    "        new_tup = (\"X\", ) + tup[1:]\n",
    "    else:\n",
    "        new_tup = (\"O\", ) + tup[1:]\n",
    "    \n",
    "    return tsys.Vertex(state=new_tup, turn=turn(new_tup))\n",
    "\n",
    "# A test case (let us apply on v0)\n",
    "v = mark0(v0)\n",
    "v"
   ]
  },
  {
   "cell_type": "markdown",
   "metadata": {},
   "source": [
    "Let us note the following aspects of above code.\n",
    "\n",
    "* We defined `mark0` using the decorator `@model.Action`. Behind the scenes, this instantiates an `Action` with postcondition defined by the `mark0` function. \n",
    "\n",
    "* We \"called\" the action `mark0` as a function with argument `v0` to compute the result of applying `mark0` at `v0`. Behind the scenes, `mark0(v0)` first evaluates whether `mark0.precondition(v0)` is `True` or `False` (default: `True`). Only when precondition evaluates to `True`, the postcondition is evaluated and returned. \n",
    "\n",
    "\n",
    "Let us see an example of how to add a precondition to `mark0`. Say, `mark0` should not be applied to a state if cell 0 is already marked. "
   ]
  },
  {
   "cell_type": "code",
   "execution_count": 8,
   "metadata": {},
   "outputs": [
    {
     "name": "stdout",
     "output_type": "stream",
     "text": [
      "None\n"
     ]
    }
   ],
   "source": [
    "# Define the precondition\n",
    "\n",
    "@mark0.precondition\n",
    "def mark0(v):\n",
    "    tup = v.name[0]     # Recall v.name has structure (state, turn)\n",
    "    \n",
    "    if tup[0] is None:\n",
    "        return True\n",
    "    \n",
    "    return False\n",
    "\n",
    "\n",
    "# Apply mark0 on output of last block\n",
    "v = mark0(v0)\n",
    "v = mark0(v)\n",
    "print(v)"
   ]
  },
  {
   "cell_type": "markdown",
   "metadata": {},
   "source": [
    "Observe that `mark0(v)` was returned as `None` representing that the precondition of the action did not evaluate to `True`. \n",
    "\n",
    "\n",
    "Let us define actions `mark1, ..., mark8` similar to `mark0`.\n",
    "\n",
    "**Note:** It is possible to use `map` function in conjunction with `functools.partial` to efficiently define 9 actions in a few lines. But for thre sake of simpler exposition, we explicitly define all actions."
   ]
  },
  {
   "cell_type": "code",
   "execution_count": 9,
   "metadata": {},
   "outputs": [],
   "source": [
    "# Define generalized precondition and postcondition functions\n",
    "def mark_precondition(v, i):\n",
    "    tup = v.name[0]     # Recall v.name has structure (state, turn)\n",
    "    \n",
    "    if tup[i] is None:\n",
    "        return True\n",
    "    \n",
    "    return False\n",
    "\n",
    "def mark_postcondition(v, i):\n",
    "    tup = v.name[0]\n",
    "    \n",
    "    if v.turn == model.TURN_P1:\n",
    "        new_tup = list(tup)\n",
    "        new_tup[i] = \"X\"\n",
    "        new_tup = tuple(new_tup)\n",
    "    else:\n",
    "        new_tup = list(tup)\n",
    "        new_tup[i] = \"O\"\n",
    "        new_tup = tuple(new_tup)\n",
    "    \n",
    "    return tsys.Vertex(state=new_tup, turn=turn(new_tup))\n",
    "\n",
    "\n",
    "# Define actions (postconditions)\n",
    "@model.Action\n",
    "def mark0(v):\n",
    "    return mark_postcondition(v, 0)\n",
    "\n",
    "@model.Action\n",
    "def mark1(v):\n",
    "    return mark_postcondition(v, 1)\n",
    "    \n",
    "@model.Action\n",
    "def mark2(v):\n",
    "    return mark_postcondition(v, 2)\n",
    "\n",
    "@model.Action\n",
    "def mark3(v):\n",
    "    return mark_postcondition(v, 3)\n",
    "    \n",
    "@model.Action\n",
    "def mark4(v):\n",
    "    return mark_postcondition(v, 4)\n",
    "    \n",
    "@model.Action\n",
    "def mark5(v):\n",
    "    return mark_postcondition(v, 5)\n",
    "    \n",
    "@model.Action\n",
    "def mark6(v):\n",
    "    return mark_postcondition(v, 6)\n",
    "    \n",
    "@model.Action\n",
    "def mark7(v):\n",
    "    return mark_postcondition(v, 7)\n",
    "    \n",
    "@model.Action\n",
    "def mark8(v):\n",
    "    return mark_postcondition(v, 8)\n",
    "    \n",
    "\n",
    "# Define preconditions\n",
    "@mark0.precondition\n",
    "def mark0(v):\n",
    "    return mark_precondition(v, 0)\n",
    "\n",
    "@mark1.precondition\n",
    "def mark1(v):\n",
    "    return mark_precondition(v, 1)\n",
    "\n",
    "@mark2.precondition\n",
    "def mark2(v):\n",
    "    return mark_precondition(v, 2)\n",
    "    \n",
    "@mark3.precondition\n",
    "def mark3(v):\n",
    "    return mark_precondition(v, 3)\n",
    "\n",
    "@mark4.precondition\n",
    "def mark4(v):\n",
    "    return mark_precondition(v, 4)\n",
    "\n",
    "@mark5.precondition\n",
    "def mark5(v):\n",
    "    return mark_precondition(v, 5)\n",
    "    \n",
    "@mark6.precondition\n",
    "def mark6(v):\n",
    "    return mark_precondition(v, 6)\n",
    "\n",
    "@mark7.precondition\n",
    "def mark7(v):\n",
    "    return mark_precondition(v, 7)\n",
    "\n",
    "@mark8.precondition\n",
    "def mark8(v):\n",
    "    return mark_precondition(v, 8)\n",
    "    \n",
    "\n",
    "# Define the set of all actions\n",
    "actions = [mark0, mark1, mark2, mark3, mark4, mark5, mark6, mark7, mark8]\n",
    "tsys.act = actions"
   ]
  },
  {
   "cell_type": "markdown",
   "metadata": {},
   "source": [
    "Now that we have defined all actions, let us use these actions to generate the edges of `tsys`. "
   ]
  },
  {
   "cell_type": "code",
   "execution_count": 10,
   "metadata": {},
   "outputs": [
    {
     "data": {
      "text/plain": [
       "TSys(name=tictactoe, |V|=19683, |E|=19107)"
      ]
     },
     "execution_count": 10,
     "metadata": {},
     "output_type": "execute_result"
    }
   ],
   "source": [
    "v0 = tsys.Vertex(state=(None, )*9, turn=model.TURN_P1)\n",
    "\n",
    "stack = [v0]\n",
    "explored = set()\n",
    "\n",
    "while len(stack) > 0:\n",
    "    u = stack.pop()\n",
    "    explored.add(u)\n",
    "    \n",
    "    for a in tsys.act:\n",
    "        v = a(u)\n",
    "        if v is None:       # <----- NEW! Actions return None when preconditions fail. \n",
    "            continue \n",
    "            \n",
    "        explored.add(u)\n",
    "        if v in tsys:\n",
    "            e = tsys.Edge(u, v, a)\n",
    "            tsys.add_edge(e)\n",
    "        \n",
    "        if v not in explored:\n",
    "            stack.append(v)\n",
    "\n",
    "# Print transition system\n",
    "tsys"
   ]
  },
  {
   "cell_type": "markdown",
   "metadata": {},
   "source": [
    "Once we have identified reachable states from the initial state `v0`, it's often convenient to prune out the remaining vertices to obtain a compact graph for transition system. \n",
    "\n",
    "In our case, pruning is straightforward --- remove any state with no incoming or outgoing edge. "
   ]
  },
  {
   "cell_type": "code",
   "execution_count": 11,
   "metadata": {},
   "outputs": [
    {
     "data": {
      "text/plain": [
       "TSys(name=tictactoe, |V|=6046, |E|=19107)"
      ]
     },
     "execution_count": 11,
     "metadata": {},
     "output_type": "execute_result"
    }
   ],
   "source": [
    "# Prune\n",
    "rem_vertices = []\n",
    "for v in tsys.vertices:\n",
    "    if len(tuple(tsys.out_edges(v))) == 0 and len(tuple(tsys.in_edges(v))) == 0:\n",
    "        rem_vertices.append(v)\n",
    "\n",
    "tsys.rm_vertices(rem_vertices)\n",
    "tsys"
   ]
  },
  {
   "cell_type": "code",
   "execution_count": 12,
   "metadata": {},
   "outputs": [
    {
     "name": "stdout",
     "output_type": "stream",
     "text": [
      "\n",
      "TSysEdge(name=(TSysVertex(name=(('X', None, 'O', None, None, None, 'X', None, None), 'TURN_P2')), TSysVertex(name=(('X', None, 'O', None, 'O', None, 'X', None, None), 'TURN_P1')), Action(name=mark4)))\n",
      "TSysEdge(name=(TSysVertex(name=(('X', None, 'O', None, None, None, 'X', None, None), 'TURN_P2')), TSysVertex(name=(('X', None, 'O', None, None, None, 'X', 'O', None), 'TURN_P1')), Action(name=mark7)))\n",
      "TSysEdge(name=(TSysVertex(name=(('X', None, 'O', None, None, None, 'X', None, None), 'TURN_P2')), TSysVertex(name=(('X', None, 'O', None, None, 'O', 'X', None, None), 'TURN_P1')), Action(name=mark5)))\n",
      "TSysEdge(name=(TSysVertex(name=(('X', None, 'O', None, None, None, 'X', None, None), 'TURN_P2')), TSysVertex(name=(('X', None, 'O', None, None, None, 'X', None, 'O'), 'TURN_P1')), Action(name=mark8)))\n",
      "TSysEdge(name=(TSysVertex(name=(('X', None, 'O', None, None, None, 'X', None, None), 'TURN_P2')), TSysVertex(name=(('X', None, 'O', 'O', None, None, 'X', None, None), 'TURN_P1')), Action(name=mark3)))\n",
      "TSysEdge(name=(TSysVertex(name=(('X', None, 'O', None, None, None, 'X', None, None), 'TURN_P2')), TSysVertex(name=(('X', 'O', 'O', None, None, None, 'X', None, None), 'TURN_P1')), Action(name=mark1)))\n",
      "\n",
      "TSysEdge(name=(TSysVertex(name=(('X', None, 'O', None, None, None, None, None, None), 'TURN_P1')), TSysVertex(name=(('X', None, 'O', None, None, None, 'X', None, None), 'TURN_P2')), Action(name=mark6)))\n",
      "TSysEdge(name=(TSysVertex(name=((None, None, 'O', None, None, None, 'X', None, None), 'TURN_P1')), TSysVertex(name=(('X', None, 'O', None, None, None, 'X', None, None), 'TURN_P2')), Action(name=mark0)))\n"
     ]
    }
   ],
   "source": [
    "# Let us check whether our tsys is correct. \n",
    "\n",
    "# Case 1: Out edges at initial state\n",
    "v0 = tsys.Vertex(state=(None, )*9, turn=turn((None, )*9))\n",
    "assert len(tuple(tsys.out_edges(v0))) == 9\n",
    "assert len(tuple(tsys.in_edges(v0))) == 0\n",
    "\n",
    "# Case 2: Out edges at some intermediate state\n",
    "state = ('X', None, 'O', None, None, None, 'X', None, None)\n",
    "v0 = tsys.Vertex(state=state, turn=turn(state))\n",
    "print()\n",
    "for e in tuple(tsys.out_edges(v0)):\n",
    "    print(e)\n",
    "print()\n",
    "for e in tuple(tsys.in_edges(v0)):\n",
    "    print(e)"
   ]
  },
  {
   "cell_type": "markdown",
   "metadata": {},
   "source": [
    "Voila! We have our transition system for tictactoe. \n",
    "\n",
    "\n",
    "**Reference:** It is possible to obtain even more compact transition system based on the [Math StackExchange discussion](https://math.stackexchange.com/questions/485752/tictactoe-state-space-choose-calculation/485852). "
   ]
  }
 ],
 "metadata": {
  "kernelspec": {
   "display_name": "Python 3",
   "language": "python",
   "name": "python3"
  },
  "language_info": {
   "codemirror_mode": {
    "name": "ipython",
    "version": 3
   },
   "file_extension": ".py",
   "mimetype": "text/x-python",
   "name": "python",
   "nbconvert_exporter": "python",
   "pygments_lexer": "ipython3",
   "version": "3.7.3"
  }
 },
 "nbformat": 4,
 "nbformat_minor": 2
}
